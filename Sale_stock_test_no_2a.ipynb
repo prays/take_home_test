{
 "cells": [
  {
   "cell_type": "code",
   "execution_count": 2,
   "metadata": {},
   "outputs": [
    {
     "name": "stdout",
     "output_type": "stream",
     "text": [
      "[['Person_B', '15'], ['Person_D', '15'], ['Person_A', '24'], ['Person_C', '52']]\n"
     ]
    }
   ],
   "source": [
    "#Misal diberikan data berupa nama dan umur pada file (.txt). \n",
    "#Urutkan data berdasarkan UMUR KEMUDIAN NAMA. Lalu output dimasukkan ke file (txt) yang baru\n",
    "#Input:\n",
    "#person_A 24 \n",
    "#person_B 15 \n",
    "#person_C 52\n",
    "#person_D 15\n",
    "#Output:\n",
    "#person_B 15\n",
    "#person_D 15\n",
    "#person_A 24\n",
    "#person_C 52\n",
    "def sort_num(x):\n",
    "    return (int(x[1]),x[0])\n",
    "\n",
    "with open('data.txt', 'r') as r:\n",
    "    r1 = [s.replace(' ', ',') for s in r]\n",
    "    r2 = [s.replace('\\n', '') for s in r1]\n",
    "    r3 = [s.split(',') for s in r2]\n",
    "    sort1 = sorted(r3, key=sort_num)\n",
    "    print(sort1)\n",
    "    \n",
    "with open('sort.txt','w') as w:\n",
    "    for i in sort1:\n",
    "        w.write(str(i[0]))\n",
    "        w.write(' ')\n",
    "        w.write(i[1])\n",
    "        w.write('\\n')"
   ]
  },
  {
   "cell_type": "code",
   "execution_count": null,
   "metadata": {
    "collapsed": true
   },
   "outputs": [],
   "source": []
  }
 ],
 "metadata": {
  "kernelspec": {
   "display_name": "Python 3",
   "language": "python",
   "name": "python3"
  },
  "language_info": {
   "codemirror_mode": {
    "name": "ipython",
    "version": 3
   },
   "file_extension": ".py",
   "mimetype": "text/x-python",
   "name": "python",
   "nbconvert_exporter": "python",
   "pygments_lexer": "ipython3",
   "version": "3.6.4"
  }
 },
 "nbformat": 4,
 "nbformat_minor": 2
}
