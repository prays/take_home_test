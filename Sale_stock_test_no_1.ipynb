{
 "cells": [
  {
   "cell_type": "code",
   "execution_count": 4,
   "metadata": {},
   "outputs": [
    {
     "name": "stdout",
     "output_type": "stream",
     "text": [
      "4 10\n",
      "1\n",
      "5\n",
      "10\n",
      "15\n",
      "     fun: 0.0\n",
      "     jac: array([1.49011612e-08, 0.00000000e+00, 0.00000000e+00, 1.49011612e-08])\n",
      " message: 'Optimization terminated successfully.'\n",
      "    nfev: 13\n",
      "     nit: 2\n",
      "    njev: 2\n",
      "  status: 0\n",
      " success: True\n",
      "       x: array([ 3.,  5., 10., 13.])\n",
      "b_i: [3, 5, 10, 13]\n",
      "a_i: [ 1  5 10 15]\n",
      "Output: 8\n"
     ]
    }
   ],
   "source": [
    "#Diberikan array a1,a2,...,an dimana nilai-nilainya diantara A_low dan A_high. Selisih nilai maksimumnya lebih kecil atau sama dengan Max_diff \n",
    "#dengan cara menambahkan atau mengurangi nilai tersebut kemudian dinyatakan cost sebagai jumlah kuadrat dari selisih nilai itu. \n",
    "#Dengan kata lain akan dibuat array bi dimana max(b)-min(b)<=Max_diff sekaligus meminimalisasi cost. Cost=sum(bi-ai)^2\n",
    "#Input:\n",
    "#ukuran_array_a, Max_diff\n",
    "#nilai-nilai dari array a dimana A_low <= min(Aa) <= max(a) <= A_high\n",
    "#Output: cost\n",
    "\n",
    "#Contoh Input:\n",
    "#4 10\n",
    "#1\n",
    "#5\n",
    "#10\n",
    "#15\n",
    "\n",
    "#Contoh Output:\n",
    "#8\n",
    "\n",
    "from scipy.optimize import minimize\n",
    "import numpy as np\n",
    "import math\n",
    "\n",
    "input1 = input()\n",
    "split_input1 = input1.split(' ')\n",
    "array_input1 = [int(k) for k in split_input1]\n",
    "size_a_i = array_input1[0]\n",
    "max_dif = array_input1[1]\n",
    "a_i = []\n",
    "for i in range(size_a_i):\n",
    "    a_i.append(int(input()))\n",
    "a_i = np.array(a_i)\n",
    "     \n",
    "a_i = np.array(a_i)\n",
    "\n",
    "b_i = np.zeros(size_a_i)\n",
    "\n",
    "    \n",
    "def func_cost(a_i):\n",
    "    b_i[0] = a_i[0] \n",
    "    b_i[-1] = b_i[0] + max_dif\n",
    "    b_i[1] = a_i[1]\n",
    "    b_i[2] = a_i[2]\n",
    "    return np.sum((a_i[:]-b_i[:])**2)\n",
    "\n",
    "x0 = a_i\n",
    "res = minimize(func_cost,x0,method='SLSQP',bounds=((1,100),(1,100),(1,100),(1,100)))\n",
    "print(res)\n",
    "res_x = [math.floor(x) for x in res.x]\n",
    "print('b_i:',res_x)\n",
    "print('a_i:',a_i)\n",
    "print('Output:',np.sum((np.subtract(a_i,res_x))**2))\n"
   ]
  },
  {
   "cell_type": "code",
   "execution_count": null,
   "metadata": {
    "collapsed": true
   },
   "outputs": [],
   "source": []
  }
 ],
 "metadata": {
  "kernelspec": {
   "display_name": "Python 3",
   "language": "python",
   "name": "python3"
  },
  "language_info": {
   "codemirror_mode": {
    "name": "ipython",
    "version": 3
   },
   "file_extension": ".py",
   "mimetype": "text/x-python",
   "name": "python",
   "nbconvert_exporter": "python",
   "pygments_lexer": "ipython3",
   "version": "3.6.4"
  }
 },
 "nbformat": 4,
 "nbformat_minor": 2
}
