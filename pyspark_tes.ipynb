{
 "cells": [
  {
   "cell_type": "code",
   "execution_count": 1,
   "metadata": {
    "collapsed": true
   },
   "outputs": [],
   "source": [
    "import findspark\n",
    "findspark.init()\n",
    "\n",
    "import pyspark # only run after findspark.init()\n",
    "from pyspark.sql import SparkSession\n",
    "spark = SparkSession.builder.getOrCreate()\n",
    "\n"
   ]
  },
  {
   "cell_type": "code",
   "execution_count": 5,
   "metadata": {
    "collapsed": true
   },
   "outputs": [],
   "source": [
    "df.createOrReplaceTempView(\"a\")"
   ]
  },
  {
   "cell_type": "code",
   "execution_count": 6,
   "metadata": {
    "collapsed": true
   },
   "outputs": [],
   "source": [
    "sql_results = spark.sql(\"select * from a\")"
   ]
  },
  {
   "cell_type": "code",
   "execution_count": 10,
   "metadata": {
    "collapsed": true
   },
   "outputs": [],
   "source": [
    "sql_results.toPandas().to_csv('my.csv',index=False)"
   ]
  },
  {
   "cell_type": "code",
   "execution_count": 2,
   "metadata": {
    "collapsed": true
   },
   "outputs": [],
   "source": [
    "from pyspark.sql import SparkSession"
   ]
  },
  {
   "cell_type": "code",
   "execution_count": 3,
   "metadata": {
    "collapsed": true
   },
   "outputs": [],
   "source": [
    "spark = SparkSession.builder.appName(\"groupbyagg\").getOrCreate()"
   ]
  },
  {
   "cell_type": "code",
   "execution_count": 2,
   "metadata": {
    "collapsed": true
   },
   "outputs": [],
   "source": [
    "df = spark.read.csv('richest_100.csv',inferSchema=True,header=True)"
   ]
  },
  {
   "cell_type": "code",
   "execution_count": 3,
   "metadata": {},
   "outputs": [
    {
     "name": "stdout",
     "output_type": "stream",
     "text": [
      "+----------+-----------+\n",
      "|        id|        num|\n",
      "+----------+-----------+\n",
      "|3110cd6537|14126904237|\n",
      "|852f5bfc03|12218765388|\n",
      "|bce73be6a9| 7928562507|\n",
      "|b61844a79d| 7774576904|\n",
      "|dc63f200e2| 5414663748|\n",
      "|c48152eb89| 5034940004|\n",
      "|ef0dedd06f| 4625464981|\n",
      "|93834f3c96| 4256863544|\n",
      "|57171658c7| 3081815725|\n",
      "|5b4b2729d4| 3007521369|\n",
      "|164d484e99| 2957312037|\n",
      "|b836c850ed| 2828152656|\n",
      "|3ba493f460| 1779098156|\n",
      "|5ea6340227| 1764107107|\n",
      "|923dcde31b| 1612368186|\n",
      "|1556fe84f7| 1434320551|\n",
      "|d7c7aeac09| 1405493614|\n",
      "|fb211a4127| 1345701649|\n",
      "|b4a666bf7c| 1328547693|\n",
      "|4c29ae7ed2| 1180233724|\n",
      "+----------+-----------+\n",
      "only showing top 20 rows\n",
      "\n"
     ]
    }
   ],
   "source": [
    "df.show()"
   ]
  },
  {
   "cell_type": "code",
   "execution_count": 4,
   "metadata": {
    "collapsed": true
   },
   "outputs": [],
   "source": [
    "df.createOrReplaceTempView(\"richest_100\")"
   ]
  },
  {
   "cell_type": "code",
   "execution_count": 35,
   "metadata": {},
   "outputs": [],
   "source": [
    "sql_results = spark.sql(\"select max(num) as richest_sum from richest_100\")"
   ]
  },
  {
   "cell_type": "code",
   "execution_count": 36,
   "metadata": {},
   "outputs": [
    {
     "name": "stdout",
     "output_type": "stream",
     "text": [
      "+-----------+\n",
      "|richest_sum|\n",
      "+-----------+\n",
      "|14126904237|\n",
      "+-----------+\n",
      "\n"
     ]
    }
   ],
   "source": [
    "sql_results.show()"
   ]
  },
  {
   "cell_type": "code",
   "execution_count": 7,
   "metadata": {
    "collapsed": true
   },
   "outputs": [],
   "source": [
    "df2 = spark.read.csv('MJ100.csv',inferSchema=True,header=True)"
   ]
  },
  {
   "cell_type": "code",
   "execution_count": 8,
   "metadata": {
    "collapsed": true
   },
   "outputs": [],
   "source": [
    "df.createOrReplaceTempView(\"MJ100\")"
   ]
  },
  {
   "cell_type": "code",
   "execution_count": 9,
   "metadata": {
    "collapsed": true
   },
   "outputs": [],
   "source": [
    "sql_results2 = spark.sql(\"select sum(num) as top_sum from (select * from MJ100 limit 10) as top_10\")"
   ]
  },
  {
   "cell_type": "code",
   "execution_count": 10,
   "metadata": {},
   "outputs": [
    {
     "name": "stdout",
     "output_type": "stream",
     "text": [
      "+-----------+\n",
      "|    top_sum|\n",
      "+-----------+\n",
      "|67470078407|\n",
      "+-----------+\n",
      "\n"
     ]
    }
   ],
   "source": [
    "sql_results2.show()"
   ]
  },
  {
   "cell_type": "code",
   "execution_count": 25,
   "metadata": {
    "collapsed": true
   },
   "outputs": [],
   "source": [
    "sql_results2.createOrReplaceTempView(\"top\")"
   ]
  },
  {
   "cell_type": "code",
   "execution_count": 37,
   "metadata": {
    "collapsed": true
   },
   "outputs": [],
   "source": [
    "sql_results.createOrReplaceTempView(\"richest\")"
   ]
  },
  {
   "cell_type": "code",
   "execution_count": 32,
   "metadata": {},
   "outputs": [
    {
     "name": "stdout",
     "output_type": "stream",
     "text": [
      "+-----------+\n",
      "|    top_sum|\n",
      "+-----------+\n",
      "|67470078407|\n",
      "+-----------+\n",
      "\n"
     ]
    }
   ],
   "source": [
    "spark.sql('select * from top').show()"
   ]
  },
  {
   "cell_type": "code",
   "execution_count": 38,
   "metadata": {},
   "outputs": [
    {
     "name": "stdout",
     "output_type": "stream",
     "text": [
      "+-----------+\n",
      "|richest_sum|\n",
      "+-----------+\n",
      "|14126904237|\n",
      "+-----------+\n",
      "\n"
     ]
    }
   ],
   "source": [
    "spark.sql('select * from richest').show()"
   ]
  },
  {
   "cell_type": "code",
   "execution_count": null,
   "metadata": {
    "collapsed": true
   },
   "outputs": [],
   "source": []
  },
  {
   "cell_type": "code",
   "execution_count": null,
   "metadata": {
    "collapsed": true
   },
   "outputs": [],
   "source": []
  },
  {
   "cell_type": "code",
   "execution_count": 45,
   "metadata": {
    "collapsed": true
   },
   "outputs": [],
   "source": [
    "ratio = spark.sql('set @ratio = @richest_sum/@top_sum select @ratio')"
   ]
  },
  {
   "cell_type": "code",
   "execution_count": 46,
   "metadata": {},
   "outputs": [
    {
     "name": "stdout",
     "output_type": "stream",
     "text": [
      "+------+--------------------+\n",
      "|   key|               value|\n",
      "+------+--------------------+\n",
      "|@ratio|@richest_sum/@top...|\n",
      "+------+--------------------+\n",
      "\n"
     ]
    }
   ],
   "source": [
    "ratio.show()"
   ]
  },
  {
   "cell_type": "code",
   "execution_count": 45,
   "metadata": {},
   "outputs": [],
   "source": [
    "sql_results3 = spark.sql('select top.top_sum/richest.richest_sum from top cross join richest')"
   ]
  },
  {
   "cell_type": "code",
   "execution_count": 46,
   "metadata": {},
   "outputs": [
    {
     "name": "stdout",
     "output_type": "stream",
     "text": [
      "+-------------------------------------------------------+\n",
      "|(CAST(top_sum AS DOUBLE) / CAST(richest_sum AS DOUBLE))|\n",
      "+-------------------------------------------------------+\n",
      "|                                       4.77599885120535|\n",
      "+-------------------------------------------------------+\n",
      "\n"
     ]
    }
   ],
   "source": [
    "sql_results3.show()"
   ]
  },
  {
   "cell_type": "code",
   "execution_count": 43,
   "metadata": {
    "collapsed": true
   },
   "outputs": [],
   "source": [
    "sql_results3.createOrReplaceTempView('join_sum')"
   ]
  },
  {
   "cell_type": "code",
   "execution_count": 44,
   "metadata": {},
   "outputs": [
    {
     "name": "stdout",
     "output_type": "stream",
     "text": [
      "+-------------------------------------------------------+\n",
      "|(CAST(top_sum AS DOUBLE) / CAST(richest_sum AS DOUBLE))|\n",
      "+-------------------------------------------------------+\n",
      "|                                       4.77599885120535|\n",
      "+-------------------------------------------------------+\n",
      "\n"
     ]
    }
   ],
   "source": [
    "spark.sql('select top_sum/richest_sum from join_sum').show()"
   ]
  },
  {
   "cell_type": "code",
   "execution_count": null,
   "metadata": {
    "collapsed": true
   },
   "outputs": [],
   "source": [
    "sql_results3.show()"
   ]
  },
  {
   "cell_type": "code",
   "execution_count": null,
   "metadata": {
    "collapsed": true
   },
   "outputs": [],
   "source": [
    "sql_results = spark.sql(\"select id,sum(num) as total_wealth from all group by id order by total_wealth DESC\")"
   ]
  },
  {
   "cell_type": "code",
   "execution_count": null,
   "metadata": {
    "collapsed": true
   },
   "outputs": [],
   "source": [
    "sql_results = spark.sql(\"select id,sum(num) as total_wealth from all group by id order by total_wealth DESC limit 1000000\")"
   ]
  },
  {
   "cell_type": "code",
   "execution_count": null,
   "metadata": {
    "collapsed": true
   },
   "outputs": [],
   "source": [
    "sql_results.show()"
   ]
  },
  {
   "cell_type": "code",
   "execution_count": 9,
   "metadata": {},
   "outputs": [
    {
     "name": "stdout",
     "output_type": "stream",
     "text": [
      "+----------+------------+\n",
      "|        id|total_wealth|\n",
      "+----------+------------+\n",
      "|5be87a16cb|  2137367737|\n",
      "|0576e9dedd|  2109953740|\n",
      "|551a1d9c53|  2098043606|\n",
      "|c57a91becf|  2096431866|\n",
      "|9271766638|  2089128107|\n",
      "|9f349d59a8|  2082028780|\n",
      "|c1a12316d7|  2044061753|\n",
      "|94d08d92fc|  2033745750|\n",
      "|344aa87739|  2021791962|\n",
      "|58a6e25017|  1927084773|\n",
      "|f47518505f|  1916648284|\n",
      "|9cca4701e3|  1903438555|\n",
      "|beb6902920|  1883013153|\n",
      "|da00bf82c2|  1854585861|\n",
      "|ef4fc575c8|  1852659182|\n",
      "|154486422b|  1802504750|\n",
      "|d9658178f1|  1802300699|\n",
      "|77e91aff93|  1783083580|\n",
      "|7c5b6898f8|  1780523970|\n",
      "|ac280ec103|  1779098156|\n",
      "+----------+------------+\n",
      "only showing top 20 rows\n",
      "\n"
     ]
    }
   ],
   "source": [
    "sql_results.show()"
   ]
  },
  {
   "cell_type": "code",
   "execution_count": 24,
   "metadata": {
    "collapsed": true
   },
   "outputs": [],
   "source": [
    "sql_results.toPandas().to_csv('my.csv',index=False)"
   ]
  },
  {
   "cell_type": "code",
   "execution_count": null,
   "metadata": {
    "collapsed": true
   },
   "outputs": [],
   "source": []
  }
 ],
 "metadata": {
  "kernelspec": {
   "display_name": "Python 2",
   "language": "python",
   "name": "python2"
  },
  "language_info": {
   "codemirror_mode": {
    "name": "ipython",
    "version": 2
   },
   "file_extension": ".py",
   "mimetype": "text/x-python",
   "name": "python",
   "nbconvert_exporter": "python",
   "pygments_lexer": "ipython2",
   "version": "2.7.14"
  }
 },
 "nbformat": 4,
 "nbformat_minor": 2
}
