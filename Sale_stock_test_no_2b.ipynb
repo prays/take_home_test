{
 "cells": [
  {
   "cell_type": "code",
   "execution_count": 6,
   "metadata": {},
   "outputs": [
    {
     "data": {
      "text/plain": [
       "True"
      ]
     },
     "execution_count": 6,
     "metadata": {},
     "output_type": "execute_result"
    }
   ],
   "source": [
    "#check blacklist from black_list.txt\n",
    "blacklist = open('black_list.txt','r')\n",
    "def check_blacklist(name,phone_number):\n",
    "    with blacklist as black:\n",
    "        black2 = [s.replace('\\n', '') for s in black]\n",
    "        split_data = [s.split(' ') for s in black2]\n",
    "        for i in split_data:\n",
    "            if i[0]==str(name) and int(i[1])==phone_number:\n",
    "                return True\n",
    "            else:\n",
    "                continue\n",
    "        return False\n",
    "\n",
    "check_blacklist('rocky',23)    "
   ]
  },
  {
   "cell_type": "code",
   "execution_count": null,
   "metadata": {
    "collapsed": true
   },
   "outputs": [],
   "source": []
  }
 ],
 "metadata": {
  "kernelspec": {
   "display_name": "Python 3",
   "language": "python",
   "name": "python3"
  },
  "language_info": {
   "codemirror_mode": {
    "name": "ipython",
    "version": 3
   },
   "file_extension": ".py",
   "mimetype": "text/x-python",
   "name": "python",
   "nbconvert_exporter": "python",
   "pygments_lexer": "ipython3",
   "version": "3.6.4"
  }
 },
 "nbformat": 4,
 "nbformat_minor": 2
}
